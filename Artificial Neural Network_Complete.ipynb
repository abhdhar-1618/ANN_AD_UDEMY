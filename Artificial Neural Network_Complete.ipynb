{
 "cells": [
  {
   "cell_type": "code",
   "execution_count": 1,
   "id": "fc5c119b",
   "metadata": {},
   "outputs": [],
   "source": [
    "#pip install tensorflow"
   ]
  },
  {
   "cell_type": "code",
   "execution_count": 2,
   "id": "1c62cef3",
   "metadata": {},
   "outputs": [],
   "source": [
    "import numpy as np\n",
    "import pandas as pd\n",
    "import tensorflow as tf"
   ]
  },
  {
   "cell_type": "code",
   "execution_count": 3,
   "id": "f19e55bb",
   "metadata": {},
   "outputs": [
    {
     "data": {
      "text/plain": [
       "'2.12.0'"
      ]
     },
     "execution_count": 3,
     "metadata": {},
     "output_type": "execute_result"
    }
   ],
   "source": [
    "tf.__version__"
   ]
  },
  {
   "cell_type": "code",
   "execution_count": 4,
   "id": "a97b8ebd",
   "metadata": {},
   "outputs": [],
   "source": [
    "dataset = pd.read_csv('Churn_Modelling.csv')\n",
    "X = dataset.iloc[:, 3:-1].values\n",
    "y = dataset.iloc[:, -1].values"
   ]
  },
  {
   "cell_type": "code",
   "execution_count": 5,
   "id": "53c44bc2",
   "metadata": {},
   "outputs": [
    {
     "name": "stdout",
     "output_type": "stream",
     "text": [
      "[[619 'France' 'Female' ... 1 1 101348.88]\n",
      " [608 'Spain' 'Female' ... 0 1 112542.58]\n",
      " [502 'France' 'Female' ... 1 0 113931.57]\n",
      " ...\n",
      " [709 'France' 'Female' ... 0 1 42085.58]\n",
      " [772 'Germany' 'Male' ... 1 0 92888.52]\n",
      " [792 'France' 'Female' ... 1 0 38190.78]]\n"
     ]
    }
   ],
   "source": [
    "print(X)"
   ]
  },
  {
   "cell_type": "code",
   "execution_count": 6,
   "id": "9f3d3941",
   "metadata": {},
   "outputs": [
    {
     "name": "stdout",
     "output_type": "stream",
     "text": [
      "[1 0 1 ... 1 1 0]\n"
     ]
    }
   ],
   "source": [
    "print(y)"
   ]
  },
  {
   "cell_type": "code",
   "execution_count": 7,
   "id": "73869fdc",
   "metadata": {},
   "outputs": [],
   "source": [
    "from sklearn.preprocessing import LabelEncoder\n",
    "le = LabelEncoder()\n",
    "X[:, 2] = le.fit_transform(X[:, 2])"
   ]
  },
  {
   "cell_type": "code",
   "execution_count": 8,
   "id": "768037ec",
   "metadata": {},
   "outputs": [
    {
     "name": "stdout",
     "output_type": "stream",
     "text": [
      "[[619 'France' 0 ... 1 1 101348.88]\n",
      " [608 'Spain' 0 ... 0 1 112542.58]\n",
      " [502 'France' 0 ... 1 0 113931.57]\n",
      " ...\n",
      " [709 'France' 0 ... 0 1 42085.58]\n",
      " [772 'Germany' 1 ... 1 0 92888.52]\n",
      " [792 'France' 0 ... 1 0 38190.78]]\n"
     ]
    }
   ],
   "source": [
    "print(X)"
   ]
  },
  {
   "cell_type": "code",
   "execution_count": 9,
   "id": "eab93ed7",
   "metadata": {},
   "outputs": [],
   "source": [
    "from sklearn.compose import ColumnTransformer\n",
    "from sklearn.preprocessing import OneHotEncoder\n",
    "ct = ColumnTransformer(transformers=[('encoder', OneHotEncoder(), [1])], remainder='passthrough')\n",
    "X = np.array(ct.fit_transform(X))"
   ]
  },
  {
   "cell_type": "code",
   "execution_count": 10,
   "id": "efa54fe5",
   "metadata": {
    "scrolled": true
   },
   "outputs": [
    {
     "name": "stdout",
     "output_type": "stream",
     "text": [
      "[[1.0 0.0 0.0 ... 1 1 101348.88]\n",
      " [0.0 0.0 1.0 ... 0 1 112542.58]\n",
      " [1.0 0.0 0.0 ... 1 0 113931.57]\n",
      " ...\n",
      " [1.0 0.0 0.0 ... 0 1 42085.58]\n",
      " [0.0 1.0 0.0 ... 1 0 92888.52]\n",
      " [1.0 0.0 0.0 ... 1 0 38190.78]]\n"
     ]
    }
   ],
   "source": [
    "print(X)"
   ]
  },
  {
   "cell_type": "code",
   "execution_count": 11,
   "id": "2d9ee9a7",
   "metadata": {},
   "outputs": [],
   "source": [
    "from sklearn.model_selection import train_test_split\n",
    "X_train, X_test, y_train, y_test = train_test_split(X, y, test_size = 0.2, random_state = 0)"
   ]
  },
  {
   "cell_type": "code",
   "execution_count": 12,
   "id": "a97ac72e",
   "metadata": {},
   "outputs": [],
   "source": [
    "from sklearn.preprocessing import StandardScaler\n",
    "sc = StandardScaler()\n",
    "X_train = sc.fit_transform(X_train)\n",
    "X_test = sc.transform(X_test)"
   ]
  },
  {
   "cell_type": "code",
   "execution_count": 13,
   "id": "91807649",
   "metadata": {},
   "outputs": [],
   "source": [
    "ann = tf.keras.models.Sequential()"
   ]
  },
  {
   "cell_type": "code",
   "execution_count": 14,
   "id": "34e5067c",
   "metadata": {},
   "outputs": [],
   "source": [
    "ann.add(tf.keras.layers.Dense(units=6, activation='relu'))"
   ]
  },
  {
   "cell_type": "code",
   "execution_count": 15,
   "id": "4c06e3cd",
   "metadata": {},
   "outputs": [],
   "source": [
    "ann.add(tf.keras.layers.Dense(units=6, activation='relu'))"
   ]
  },
  {
   "cell_type": "code",
   "execution_count": 16,
   "id": "f4f426cc",
   "metadata": {},
   "outputs": [],
   "source": [
    "ann.add(tf.keras.layers.Dense(units=1, activation='sigmoid'))"
   ]
  },
  {
   "cell_type": "code",
   "execution_count": 17,
   "id": "724d4ed6",
   "metadata": {},
   "outputs": [],
   "source": [
    "ann.compile(optimizer ='adam',loss = 'binary_crossentropy', metrics = ['accuracy'] )"
   ]
  },
  {
   "cell_type": "code",
   "execution_count": 18,
   "id": "259bb0b3",
   "metadata": {},
   "outputs": [
    {
     "name": "stdout",
     "output_type": "stream",
     "text": [
      "Epoch 1/100\n",
      "250/250 [==============================] - 1s 3ms/step - loss: 0.6492 - accuracy: 0.6925\n",
      "Epoch 2/100\n",
      "250/250 [==============================] - 1s 2ms/step - loss: 0.4954 - accuracy: 0.7960\n",
      "Epoch 3/100\n",
      "250/250 [==============================] - 0s 2ms/step - loss: 0.4514 - accuracy: 0.7994\n",
      "Epoch 4/100\n",
      "250/250 [==============================] - 0s 1ms/step - loss: 0.4372 - accuracy: 0.8066\n",
      "Epoch 5/100\n",
      "250/250 [==============================] - 0s 1ms/step - loss: 0.4293 - accuracy: 0.8111\n",
      "Epoch 6/100\n",
      "250/250 [==============================] - 0s 960us/step - loss: 0.4247 - accuracy: 0.8154\n",
      "Epoch 7/100\n",
      "250/250 [==============================] - 0s 1ms/step - loss: 0.4212 - accuracy: 0.8204\n",
      "Epoch 8/100\n",
      "250/250 [==============================] - 0s 910us/step - loss: 0.4187 - accuracy: 0.8205\n",
      "Epoch 9/100\n",
      "250/250 [==============================] - 0s 952us/step - loss: 0.4159 - accuracy: 0.8249\n",
      "Epoch 10/100\n",
      "250/250 [==============================] - 0s 973us/step - loss: 0.4133 - accuracy: 0.8288\n",
      "Epoch 11/100\n",
      "250/250 [==============================] - 0s 974us/step - loss: 0.4114 - accuracy: 0.8305\n",
      "Epoch 12/100\n",
      "250/250 [==============================] - 0s 958us/step - loss: 0.4093 - accuracy: 0.8310\n",
      "Epoch 13/100\n",
      "250/250 [==============================] - 0s 977us/step - loss: 0.4074 - accuracy: 0.8292\n",
      "Epoch 14/100\n",
      "250/250 [==============================] - 0s 1ms/step - loss: 0.4047 - accuracy: 0.8316\n",
      "Epoch 15/100\n",
      "250/250 [==============================] - 0s 959us/step - loss: 0.4014 - accuracy: 0.8347\n",
      "Epoch 16/100\n",
      "250/250 [==============================] - 0s 964us/step - loss: 0.3960 - accuracy: 0.8359\n",
      "Epoch 17/100\n",
      "250/250 [==============================] - 0s 996us/step - loss: 0.3899 - accuracy: 0.8353\n",
      "Epoch 18/100\n",
      "250/250 [==============================] - 0s 971us/step - loss: 0.3834 - accuracy: 0.8364\n",
      "Epoch 19/100\n",
      "250/250 [==============================] - 0s 992us/step - loss: 0.3780 - accuracy: 0.8367\n",
      "Epoch 20/100\n",
      "250/250 [==============================] - 0s 998us/step - loss: 0.3740 - accuracy: 0.8390\n",
      "Epoch 21/100\n",
      "250/250 [==============================] - 0s 944us/step - loss: 0.3707 - accuracy: 0.8404\n",
      "Epoch 22/100\n",
      "250/250 [==============================] - 0s 944us/step - loss: 0.3678 - accuracy: 0.8397\n",
      "Epoch 23/100\n",
      "250/250 [==============================] - 0s 973us/step - loss: 0.3654 - accuracy: 0.8410\n",
      "Epoch 24/100\n",
      "250/250 [==============================] - 0s 1ms/step - loss: 0.3635 - accuracy: 0.8428\n",
      "Epoch 25/100\n",
      "250/250 [==============================] - 0s 995us/step - loss: 0.3619 - accuracy: 0.8425\n",
      "Epoch 26/100\n",
      "250/250 [==============================] - 0s 1ms/step - loss: 0.3604 - accuracy: 0.8438\n",
      "Epoch 27/100\n",
      "250/250 [==============================] - 1s 2ms/step - loss: 0.3590 - accuracy: 0.8432\n",
      "Epoch 28/100\n",
      "250/250 [==============================] - 0s 997us/step - loss: 0.3572 - accuracy: 0.8469\n",
      "Epoch 29/100\n",
      "250/250 [==============================] - 0s 957us/step - loss: 0.3552 - accuracy: 0.8497\n",
      "Epoch 30/100\n",
      "250/250 [==============================] - 1s 2ms/step - loss: 0.3536 - accuracy: 0.8515\n",
      "Epoch 31/100\n",
      "250/250 [==============================] - 1s 3ms/step - loss: 0.3516 - accuracy: 0.8515\n",
      "Epoch 32/100\n",
      "250/250 [==============================] - 0s 1ms/step - loss: 0.3503 - accuracy: 0.8518\n",
      "Epoch 33/100\n",
      "250/250 [==============================] - 0s 924us/step - loss: 0.3492 - accuracy: 0.8529\n",
      "Epoch 34/100\n",
      "250/250 [==============================] - 0s 994us/step - loss: 0.3478 - accuracy: 0.8543\n",
      "Epoch 35/100\n",
      "250/250 [==============================] - 0s 899us/step - loss: 0.3459 - accuracy: 0.8569\n",
      "Epoch 36/100\n",
      "250/250 [==============================] - 0s 1ms/step - loss: 0.3446 - accuracy: 0.8579\n",
      "Epoch 37/100\n",
      "250/250 [==============================] - 0s 956us/step - loss: 0.3425 - accuracy: 0.8618\n",
      "Epoch 38/100\n",
      "250/250 [==============================] - 0s 983us/step - loss: 0.3409 - accuracy: 0.8619\n",
      "Epoch 39/100\n",
      "250/250 [==============================] - 0s 910us/step - loss: 0.3392 - accuracy: 0.8619\n",
      "Epoch 40/100\n",
      "250/250 [==============================] - 0s 952us/step - loss: 0.3386 - accuracy: 0.8637\n",
      "Epoch 41/100\n",
      "250/250 [==============================] - 0s 958us/step - loss: 0.3373 - accuracy: 0.8639\n",
      "Epoch 42/100\n",
      "250/250 [==============================] - 0s 968us/step - loss: 0.3362 - accuracy: 0.8641\n",
      "Epoch 43/100\n",
      "250/250 [==============================] - 0s 968us/step - loss: 0.3363 - accuracy: 0.8630\n",
      "Epoch 44/100\n",
      "250/250 [==============================] - 0s 996us/step - loss: 0.3360 - accuracy: 0.8622\n",
      "Epoch 45/100\n",
      "250/250 [==============================] - 0s 966us/step - loss: 0.3358 - accuracy: 0.8643\n",
      "Epoch 46/100\n",
      "250/250 [==============================] - 0s 980us/step - loss: 0.3353 - accuracy: 0.8635\n",
      "Epoch 47/100\n",
      "250/250 [==============================] - 0s 972us/step - loss: 0.3349 - accuracy: 0.8633\n",
      "Epoch 48/100\n",
      "250/250 [==============================] - 0s 967us/step - loss: 0.3347 - accuracy: 0.8629\n",
      "Epoch 49/100\n",
      "250/250 [==============================] - 0s 980us/step - loss: 0.3349 - accuracy: 0.8636\n",
      "Epoch 50/100\n",
      "250/250 [==============================] - 0s 1ms/step - loss: 0.3343 - accuracy: 0.8634\n",
      "Epoch 51/100\n",
      "250/250 [==============================] - 0s 1ms/step - loss: 0.3340 - accuracy: 0.8648\n",
      "Epoch 52/100\n",
      "250/250 [==============================] - 0s 943us/step - loss: 0.3336 - accuracy: 0.8636\n",
      "Epoch 53/100\n",
      "250/250 [==============================] - 0s 991us/step - loss: 0.3336 - accuracy: 0.8646\n",
      "Epoch 54/100\n",
      "250/250 [==============================] - 0s 961us/step - loss: 0.3335 - accuracy: 0.8636\n",
      "Epoch 55/100\n",
      "250/250 [==============================] - 0s 978us/step - loss: 0.3333 - accuracy: 0.8639\n",
      "Epoch 56/100\n",
      "250/250 [==============================] - 0s 958us/step - loss: 0.3331 - accuracy: 0.8627\n",
      "Epoch 57/100\n",
      "250/250 [==============================] - 0s 964us/step - loss: 0.3329 - accuracy: 0.8635\n",
      "Epoch 58/100\n",
      "250/250 [==============================] - 0s 973us/step - loss: 0.3333 - accuracy: 0.8645\n",
      "Epoch 59/100\n",
      "250/250 [==============================] - 0s 948us/step - loss: 0.3327 - accuracy: 0.8641\n",
      "Epoch 60/100\n",
      "250/250 [==============================] - 0s 885us/step - loss: 0.3331 - accuracy: 0.8636\n",
      "Epoch 61/100\n",
      "250/250 [==============================] - 0s 1ms/step - loss: 0.3327 - accuracy: 0.8651\n",
      "Epoch 62/100\n",
      "250/250 [==============================] - 0s 949us/step - loss: 0.3325 - accuracy: 0.8630\n",
      "Epoch 63/100\n",
      "250/250 [==============================] - 0s 823us/step - loss: 0.3326 - accuracy: 0.8645\n",
      "Epoch 64/100\n",
      "250/250 [==============================] - 0s 837us/step - loss: 0.3324 - accuracy: 0.8641\n",
      "Epoch 65/100\n",
      "250/250 [==============================] - 0s 853us/step - loss: 0.3325 - accuracy: 0.8629\n",
      "Epoch 66/100\n",
      "250/250 [==============================] - 0s 900us/step - loss: 0.3321 - accuracy: 0.8654\n",
      "Epoch 67/100\n",
      "250/250 [==============================] - 0s 931us/step - loss: 0.3326 - accuracy: 0.8636\n",
      "Epoch 68/100\n",
      "250/250 [==============================] - 0s 947us/step - loss: 0.3320 - accuracy: 0.8626\n",
      "Epoch 69/100\n",
      "250/250 [==============================] - 0s 977us/step - loss: 0.3320 - accuracy: 0.8625\n",
      "Epoch 70/100\n",
      "250/250 [==============================] - 0s 1ms/step - loss: 0.3324 - accuracy: 0.8631\n",
      "Epoch 71/100\n",
      "250/250 [==============================] - 0s 942us/step - loss: 0.3320 - accuracy: 0.8658\n",
      "Epoch 72/100\n",
      "250/250 [==============================] - 0s 946us/step - loss: 0.3319 - accuracy: 0.8641\n",
      "Epoch 73/100\n",
      "250/250 [==============================] - 0s 956us/step - loss: 0.3314 - accuracy: 0.8650\n",
      "Epoch 74/100\n",
      "250/250 [==============================] - 0s 927us/step - loss: 0.3319 - accuracy: 0.8644\n",
      "Epoch 75/100\n",
      "250/250 [==============================] - 0s 945us/step - loss: 0.3321 - accuracy: 0.8656\n",
      "Epoch 76/100\n",
      "250/250 [==============================] - 0s 953us/step - loss: 0.3316 - accuracy: 0.8643\n",
      "Epoch 77/100\n",
      "250/250 [==============================] - 0s 989us/step - loss: 0.3321 - accuracy: 0.8639\n",
      "Epoch 78/100\n",
      "250/250 [==============================] - 0s 930us/step - loss: 0.3315 - accuracy: 0.8648\n",
      "Epoch 79/100\n",
      "250/250 [==============================] - 0s 1ms/step - loss: 0.3317 - accuracy: 0.8630\n",
      "Epoch 80/100\n"
     ]
    },
    {
     "name": "stdout",
     "output_type": "stream",
     "text": [
      "250/250 [==============================] - 0s 974us/step - loss: 0.3316 - accuracy: 0.8652\n",
      "Epoch 81/100\n",
      "250/250 [==============================] - 0s 943us/step - loss: 0.3316 - accuracy: 0.8639\n",
      "Epoch 82/100\n",
      "250/250 [==============================] - 0s 940us/step - loss: 0.3318 - accuracy: 0.8641\n",
      "Epoch 83/100\n",
      "250/250 [==============================] - 0s 939us/step - loss: 0.3316 - accuracy: 0.8627\n",
      "Epoch 84/100\n",
      "250/250 [==============================] - 0s 930us/step - loss: 0.3318 - accuracy: 0.8643\n",
      "Epoch 85/100\n",
      "250/250 [==============================] - 0s 958us/step - loss: 0.3315 - accuracy: 0.8646\n",
      "Epoch 86/100\n",
      "250/250 [==============================] - 0s 968us/step - loss: 0.3315 - accuracy: 0.8645\n",
      "Epoch 87/100\n",
      "250/250 [==============================] - 0s 964us/step - loss: 0.3316 - accuracy: 0.8641\n",
      "Epoch 88/100\n",
      "250/250 [==============================] - 0s 945us/step - loss: 0.3312 - accuracy: 0.8644\n",
      "Epoch 89/100\n",
      "250/250 [==============================] - 0s 971us/step - loss: 0.3310 - accuracy: 0.8643\n",
      "Epoch 90/100\n",
      "250/250 [==============================] - 0s 950us/step - loss: 0.3313 - accuracy: 0.8633\n",
      "Epoch 91/100\n",
      "250/250 [==============================] - 0s 947us/step - loss: 0.3314 - accuracy: 0.8648\n",
      "Epoch 92/100\n",
      "250/250 [==============================] - 0s 912us/step - loss: 0.3312 - accuracy: 0.8641\n",
      "Epoch 93/100\n",
      "250/250 [==============================] - 0s 955us/step - loss: 0.3315 - accuracy: 0.8640\n",
      "Epoch 94/100\n",
      "250/250 [==============================] - 0s 960us/step - loss: 0.3312 - accuracy: 0.8634\n",
      "Epoch 95/100\n",
      "250/250 [==============================] - 0s 942us/step - loss: 0.3311 - accuracy: 0.8624\n",
      "Epoch 96/100\n",
      "250/250 [==============================] - 0s 920us/step - loss: 0.3311 - accuracy: 0.8640\n",
      "Epoch 97/100\n",
      "250/250 [==============================] - 0s 953us/step - loss: 0.3309 - accuracy: 0.8661\n",
      "Epoch 98/100\n",
      "250/250 [==============================] - 0s 992us/step - loss: 0.3312 - accuracy: 0.8637\n",
      "Epoch 99/100\n",
      "250/250 [==============================] - 0s 962us/step - loss: 0.3314 - accuracy: 0.8652\n",
      "Epoch 100/100\n",
      "250/250 [==============================] - 0s 918us/step - loss: 0.3312 - accuracy: 0.8634\n"
     ]
    },
    {
     "data": {
      "text/plain": [
       "<keras.callbacks.History at 0x2c4a2aa9f10>"
      ]
     },
     "execution_count": 18,
     "metadata": {},
     "output_type": "execute_result"
    }
   ],
   "source": [
    "ann.fit(X_train, y_train, batch_size = 32, epochs = 100)"
   ]
  },
  {
   "cell_type": "code",
   "execution_count": 19,
   "id": "0413b41c",
   "metadata": {},
   "outputs": [
    {
     "name": "stdout",
     "output_type": "stream",
     "text": [
      "1/1 [==============================] - 0s 80ms/step\n",
      "[[False]]\n"
     ]
    }
   ],
   "source": [
    "print(ann.predict(sc.transform([[1, 0, 0, 600, 1, 40, 3, 60000, 2, 1, 1, 50000]])) >0.5)"
   ]
  },
  {
   "cell_type": "code",
   "execution_count": 20,
   "id": "3c049e63",
   "metadata": {},
   "outputs": [
    {
     "name": "stdout",
     "output_type": "stream",
     "text": [
      "63/63 [==============================] - 0s 563us/step\n",
      "[[0 0]\n",
      " [0 1]\n",
      " [0 0]\n",
      " ...\n",
      " [0 0]\n",
      " [0 0]\n",
      " [0 0]]\n"
     ]
    }
   ],
   "source": [
    "y_pred = ann.predict(X_test)\n",
    "y_pred = (y_pred > 0.5)\n",
    "print(np.concatenate((y_pred.reshape(len(y_pred),1), y_test.reshape(len(y_test),1)),1))"
   ]
  },
  {
   "cell_type": "code",
   "execution_count": 21,
   "id": "e4efce68",
   "metadata": {},
   "outputs": [
    {
     "name": "stdout",
     "output_type": "stream",
     "text": [
      "[[1515   80]\n",
      " [ 194  211]]\n"
     ]
    },
    {
     "data": {
      "text/plain": [
       "0.863"
      ]
     },
     "execution_count": 21,
     "metadata": {},
     "output_type": "execute_result"
    }
   ],
   "source": [
    "from sklearn.metrics import confusion_matrix, accuracy_score\n",
    "cm = confusion_matrix(y_test, y_pred)\n",
    "print(cm)\n",
    "accuracy_score(y_test, y_pred)"
   ]
  },
  {
   "cell_type": "code",
   "execution_count": 23,
   "id": "ee6e12c8",
   "metadata": {},
   "outputs": [
    {
     "name": "stdout",
     "output_type": "stream",
     "text": [
      "1/1 [==============================] - 0s 17ms/step\n",
      "[[False]]\n"
     ]
    }
   ],
   "source": [
    "print(ann.predict(sc.transform([[1, 0, 0, 600, 1, 40, 3, 60000, 2, 1, 1, 50000]]))>0.5)"
   ]
  },
  {
   "cell_type": "code",
   "execution_count": 24,
   "id": "ede4432d",
   "metadata": {},
   "outputs": [
    {
     "name": "stdout",
     "output_type": "stream",
     "text": [
      "63/63 [==============================] - 0s 728us/step\n",
      "[[0 0]\n",
      " [0 1]\n",
      " [0 0]\n",
      " ...\n",
      " [0 0]\n",
      " [0 0]\n",
      " [0 0]]\n"
     ]
    }
   ],
   "source": [
    "y_pred = ann.predict(X_test)\n",
    "y_pred = (y_pred > 0.5)\n",
    "print(np.concatenate((y_pred.reshape(len(y_pred),1), y_test.reshape(len(y_test),1)),1))"
   ]
  },
  {
   "cell_type": "code",
   "execution_count": 26,
   "id": "4c4546ce",
   "metadata": {},
   "outputs": [
    {
     "name": "stdout",
     "output_type": "stream",
     "text": [
      "[[1515   80]\n",
      " [ 194  211]]\n"
     ]
    },
    {
     "data": {
      "text/plain": [
       "0.863"
      ]
     },
     "execution_count": 26,
     "metadata": {},
     "output_type": "execute_result"
    }
   ],
   "source": [
    "from sklearn.metrics import confusion_matrix, accuracy_score\n",
    "cm = confusion_matrix(y_test, y_pred)\n",
    "print(cm)\n",
    "accuracy_score(y_test, y_pred)"
   ]
  },
  {
   "cell_type": "code",
   "execution_count": null,
   "id": "4f34a7e5",
   "metadata": {},
   "outputs": [],
   "source": []
  }
 ],
 "metadata": {
  "kernelspec": {
   "display_name": "Python 3 (ipykernel)",
   "language": "python",
   "name": "python3"
  },
  "language_info": {
   "codemirror_mode": {
    "name": "ipython",
    "version": 3
   },
   "file_extension": ".py",
   "mimetype": "text/x-python",
   "name": "python",
   "nbconvert_exporter": "python",
   "pygments_lexer": "ipython3",
   "version": "3.8.16"
  },
  "varInspector": {
   "cols": {
    "lenName": 16,
    "lenType": 16,
    "lenVar": 40
   },
   "kernels_config": {
    "python": {
     "delete_cmd_postfix": "",
     "delete_cmd_prefix": "del ",
     "library": "var_list.py",
     "varRefreshCmd": "print(var_dic_list())"
    },
    "r": {
     "delete_cmd_postfix": ") ",
     "delete_cmd_prefix": "rm(",
     "library": "var_list.r",
     "varRefreshCmd": "cat(var_dic_list()) "
    }
   },
   "types_to_exclude": [
    "module",
    "function",
    "builtin_function_or_method",
    "instance",
    "_Feature"
   ],
   "window_display": false
  }
 },
 "nbformat": 4,
 "nbformat_minor": 5
}
